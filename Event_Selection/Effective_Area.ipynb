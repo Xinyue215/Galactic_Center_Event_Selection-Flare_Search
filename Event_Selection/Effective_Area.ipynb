{
 "cells": [
  {
   "cell_type": "code",
   "execution_count": 1,
   "metadata": {},
   "outputs": [
    {
     "name": "stderr",
     "output_type": "stream",
     "text": [
      "INFO:numexpr.utils:Note: NumExpr detected 32 cores but \"NUMEXPR_MAX_THREADS\" not set, so enforcing safe limit of 8.\n",
      "INFO:numexpr.utils:NumExpr defaulting to 8 threads.\n"
     ]
    }
   ],
   "source": [
    "import numpy as np\n",
    "import pylab, dashi, tables\n",
    "import matplotlib.pyplot as plt\n",
    "from icecube import astro\n",
    "from matplotlib.font_manager import fontManager, FontProperties\n",
    "import csky as cy\n",
    "import json\n",
    "from astropy.time import Time\n",
    "import glob\n",
    "import histlite as hl\n",
    "import pandas as pd\n",
    "import tables\n",
    "from matplotlib.pyplot import figure"
   ]
  },
  {
   "cell_type": "code",
   "execution_count": 2,
   "metadata": {},
   "outputs": [],
   "source": [
    "# GC\n",
    "GC_MC = np.load('/data/ana/PointSource/Galactic_Center/version-001-p00/IC86_2016_20878_L5_MC.npy')\n",
    "# GFU\n",
    "GFU_MC = np.load('/data/ana/analyses/gfu/version-002-p06/IC86_2011_MC.npy')\n",
    "GC_ra , GC_dec = astro.gal_to_equa(0., 0.)\n",
    "mask = ((GFU_MC['dec'])>GC_dec-np.radians(10)) & ((GFU_MC['dec'])<GC_dec+np.radians(10))\n",
    "GFU_MC = GFU_MC[mask]"
   ]
  },
  {
   "cell_type": "code",
   "execution_count": 3,
   "metadata": {},
   "outputs": [],
   "source": [
    "def plot_eff_area(MC_dec, MC_ow, MC_trueE, label):\n",
    "    MinE = 2\n",
    "    MaxE = 7\n",
    "    NBins=(MaxE-MinE)*15\n",
    "\n",
    "    ZenMin = np.min(MC_dec+np.pi/2)\n",
    "    ZenMax = np.max(MC_dec+np.pi/2)\n",
    "\n",
    "    SolidAngle=2*np.pi*(np.cos(ZenMin)-np.cos(ZenMax))\n",
    "    Weight=MC_ow*1/SolidAngle*10**(-4)\n",
    "\n",
    "    h,edges=np.histogram(np.log10(MC_trueE),weights=Weight,range=[MinE,MaxE],bins=NBins)\n",
    "\n",
    "    lin_edges=10**edges\n",
    "    widths=lin_edges[1:]-lin_edges[:-1]\n",
    "    h/=widths\n",
    "    centers=(edges[:-1]+edges[1:])/2\n",
    "\n",
    "    pylab.semilogy(centers,h, label = label)\n",
    "\n",
    "    pylab.legend(loc='upper left')\n",
    "    pylab.xlabel('log(E(GeV))')\n",
    "    pylab.ylabel('Effective Area (m$^2$)')\n",
    "    pylab.grid()"
   ]
  },
  {
   "cell_type": "code",
   "execution_count": 5,
   "metadata": {
    "scrolled": true
   },
   "outputs": [
    {
     "data": {
      "image/png": "[encoded data removed]",
      "text/plain": [
       "<Figure size 504x360 with 1 Axes>"
      ]
     },
     "metadata": {
      "needs_background": "light"
     },
     "output_type": "display_data"
    },
    {
     "data": {
      "text/plain": [
       "<Figure size 432x288 with 0 Axes>"
      ]
     },
     "metadata": {},
     "output_type": "display_data"
    }
   ],
   "source": [
    "fig = plt.figure(figsize = (7,5))\n",
    "plot_eff_area(GFU_MC['dec'], GFU_MC['ow'], GFU_MC['trueE'], label = 'GFU')\n",
    "plot_eff_area(GC_MC['dec'], GC_MC['ow'], GC_MC['trueE'], label = 'Galactic Center')\n",
    "pylab.grid()\n",
    "pylab.show()\n",
    "pylab.clf()"
   ]
  },
  {
   "cell_type": "code",
   "execution_count": null,
   "metadata": {},
   "outputs": [],
   "source": []
  },
  {
   "cell_type": "code",
   "execution_count": null,
   "metadata": {},
   "outputs": [],
   "source": []
  },
  {
   "cell_type": "code",
   "execution_count": null,
   "metadata": {},
   "outputs": [],
   "source": []
  },
  {
   "cell_type": "code",
   "execution_count": null,
   "metadata": {},
   "outputs": [],
   "source": []
  }
 ],
 "metadata": {
  "kernelspec": {
   "display_name": "Python 3",
   "language": "python",
   "name": "python3"
  },
  "language_info": {
   "codemirror_mode": {
    "name": "ipython",
    "version": 3
   },
   "file_extension": ".py",
   "mimetype": "text/x-python",
   "name": "python",
   "nbconvert_exporter": "python",
   "pygments_lexer": "ipython3",
   "version": "3.7.5"
  }
 },
 "nbformat": 4,
 "nbformat_minor": 2
}
