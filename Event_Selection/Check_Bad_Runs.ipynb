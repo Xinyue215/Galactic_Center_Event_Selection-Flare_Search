{
 "cells": [
  {
   "cell_type": "code",
   "execution_count": 1,
   "metadata": {},
   "outputs": [],
   "source": [
    "import numpy as np\n",
    "import matplotlib.pyplot as plt\n",
    "import matplotlib as mpl\n",
    "from icecube import astro, dataio,paraboloid\n",
    "import histlite as hl\n",
    "import csky as cy\n",
    "from csky import hyp\n",
    "import pandas as pd\n",
    "from importlib import reload\n",
    "import json\n",
    "from astropy.time import Time\n",
    "import glob\n",
    "import tables"
   ]
  },
  {
   "cell_type": "code",
   "execution_count": 2,
   "metadata": {},
   "outputs": [],
   "source": [
    "mc=np.load('/data/ana/PointSource/Galactic_Center/current/IC86_2016_20878_L5_MC.npy')\n",
    "\n",
    "data_2011=np.load('/data/ana/PointSource/Galactic_Center/current/IC86_2011_L5_data.npy')\n",
    "data_2012=np.load('/data/ana/PointSource/Galactic_Center/current/IC86_2012_L5_data.npy')\n",
    "data_2013=np.load('/data/ana/PointSource/Galactic_Center/current/IC86_2013_L5_data.npy')\n",
    "data_2014=np.load('/data/ana/PointSource/Galactic_Center/current/IC86_2014_L5_data.npy')\n",
    "data_2015=np.load('/data/ana/PointSource/Galactic_Center/current/IC86_2015_L5_data.npy')\n",
    "data_2016=np.load('/data/ana/PointSource/Galactic_Center/current/IC86_2016_L5_data.npy')\n",
    "data_2017=np.load('/data/ana/PointSource/Galactic_Center/current/IC86_2017_L5_data.npy')\n",
    "data_2018=np.load('/data/ana/PointSource/Galactic_Center/current/IC86_2018_L5_data.npy')\n",
    "data_2019=np.load('/data/ana/PointSource/Galactic_Center/current/IC86_2019_L5_data.npy')\n",
    "data_2020=np.load('/data/ana/PointSource/Galactic_Center/current/IC86_2020_L5_data.npy')\n",
    "data_2021=np.load('/data/ana/PointSource/Galactic_Center/current/IC86_2021_L5_data.npy')\n",
    "data_2022=np.load('/data/ana/PointSource/Galactic_Center/current/IC86_2022_L5_data.npy')\n",
    "\n",
    "# data = np.concatenate((data_2011, data_2012, data_2013, data_2014, data_2015, data_2016, data_2017, \n",
    "#                       data_2018, data_2019, data_2020, data_2021, data_2022))"
   ]
  },
  {
   "cell_type": "code",
   "execution_count": 3,
   "metadata": {},
   "outputs": [],
   "source": [
    "with open('/data/ana/PointSource/Galactic_Center/current/GRL/grl_2011_2022.json') as f:\n",
    "    grl_data = f.read()\n",
    "grl = json.loads(grl_data)"
   ]
  },
  {
   "cell_type": "code",
   "execution_count": 4,
   "metadata": {},
   "outputs": [],
   "source": [
    "data = data_2012"
   ]
  },
  {
   "cell_type": "code",
   "execution_count": 5,
   "metadata": {},
   "outputs": [
    {
     "name": "stderr",
     "output_type": "stream",
     "text": [
      "/mnt/ceph1-npx/user/xk35/software/external/csky/csky/plotting.py:92: MatplotlibDeprecationWarning: Support for setting the 'text.latex.preamble' or 'pgf.preamble' rcParam to a list of strings is deprecated since 3.3 and will be removed two minor releases later; set it to a single string instead.\n",
      "  r'\\SetSymbolFont{operators}   {sans}{OT1}{cmss} {m}{n}'\n"
     ]
    },
    {
     "name": "stdout",
     "output_type": "stream",
     "text": [
      "337.6213908345817\n"
     ]
    }
   ],
   "source": [
    "cy.plotting.mrichman_mpl()\n",
    "timer = cy.timing.Timer()\n",
    "time = timer.time\n",
    "\n",
    "GC_ra , GC_dec = astro.gal_to_equa(0., 0.)\n",
    "sindec_uplim = np.sin(GC_dec + np.radians(10))\n",
    "sindec_lolim = np.sin(GC_dec - np.radians(10))\n",
    "\n",
    "\n",
    "LT_days = 0\n",
    "for run in np.unique(data['run']):\n",
    "    mask = (data['run'] == run)\n",
    "    min_time = np.min(data[mask]['time'])\n",
    "    max_time = np.max(data[mask]['time'])\n",
    "    run_time = max_time - min_time\n",
    "    #print(run_time)\n",
    "    LT_days += run_time\n",
    "LT = LT_days*86400\n",
    "print(LT_days)"
   ]
  },
  {
   "cell_type": "code",
   "execution_count": 6,
   "metadata": {},
   "outputs": [],
   "source": [
    "start = []\n",
    "stop = []\n",
    "livetime = []\n",
    "run = []\n",
    "good_i3 = []\n",
    "good_it = []\n",
    "for item in list(grl.items())[1][1][:]:\n",
    "    if(item['good_tstop']!=None):\n",
    "        start.append(Time(item['good_tstart'], format='iso').mjd)\n",
    "        stop.append(Time(item['good_tstop'], format='iso').mjd)\n",
    "        run.append(item['run'])\n",
    "        good_i3.append(item['good_i3'])\n",
    "        good_it.append(item['good_it'])\n",
    "    \n",
    "livetime = np.array(stop)-np.array(start)"
   ]
  },
  {
   "cell_type": "code",
   "execution_count": 7,
   "metadata": {},
   "outputs": [],
   "source": [
    "events = []\n",
    "for r in run:\n",
    "    mask = (data['run']==r)\n",
    "    events.append(np.sum(mask))"
   ]
  },
  {
   "cell_type": "code",
   "execution_count": 8,
   "metadata": {},
   "outputs": [],
   "source": [
    "dtype = [('run', int), ('events', int), ('start', float), ('stop', float),('livetime', float), ('good_i3', float), \n",
    "        ('good_it', float)]\n",
    "\n",
    "grl_array = np.ones(len(run), dtype=dtype)\n",
    "grl_array['run'] = run\n",
    "grl_array['events'] = events\n",
    "grl_array['start'] = start\n",
    "grl_array['stop'] = stop\n",
    "grl_array['livetime'] = livetime\n",
    "grl_array['good_i3'] = good_i3\n",
    "grl_array['good_it'] = good_it"
   ]
  },
  {
   "cell_type": "code",
   "execution_count": 9,
   "metadata": {},
   "outputs": [],
   "source": [
    "mask_included_runs = (grl_array['events'] != 0)\n",
    "grl_array = grl_array[mask_included_runs]\n",
    "mask_good_runs = (grl_array['good_i3'] == 1) & (grl_array['good_it'] == 1)\n",
    "if mask_good_runs.mean() != 1.0:\n",
    "    print('!!!!!!!!! BAD RUNS ALART!!!!!!')\n",
    "    print(mask_good_runs.mean())"
   ]
  },
  {
   "cell_type": "code",
   "execution_count": null,
   "metadata": {},
   "outputs": [],
   "source": []
  }
 ],
 "metadata": {
  "kernelspec": {
   "display_name": "Python 3",
   "language": "python",
   "name": "python3"
  },
  "language_info": {
   "codemirror_mode": {
    "name": "ipython",
    "version": 3
   },
   "file_extension": ".py",
   "mimetype": "text/x-python",
   "name": "python",
   "nbconvert_exporter": "python",
   "pygments_lexer": "ipython3",
   "version": "3.7.5"
  }
 },
 "nbformat": 4,
 "nbformat_minor": 2
}
